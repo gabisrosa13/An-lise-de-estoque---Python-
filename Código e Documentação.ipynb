{
 "cells": [
  {
   "cell_type": "markdown",
   "metadata": {
    "id": "85IaP0yUE8eG"
   },
   "source": [
    "## **Análise Sistema de Controle de Estoque**\n",
    "\n",
    "**Objetivo**: Criar um sistema para gerenciar o estoque de uma loja, incluindo funcionalidades como adicionar, remover e visualizar produtos. Os dados devem ser manipulados com **Pandas** e gráficos sobre a quantidade de produtos em estoque devem ser gerados com **Matplotlib**.\n",
    "\n",
    "**Critérios de Avaliação**:\n",
    "- Gerenciamento de Produtos\n",
    "- Visualização de Estoque\n",
    "- Interface Gráfica (Tkinter)\n",
    "- Documentação e Apresentação"
   ]
  },
  {
   "cell_type": "markdown",
   "metadata": {},
   "source": [
    "**Divisão de Tarefas:**\n",
    "\n",
    "* Código: Gabrielle Silva Santa Rosa, Maria Clara Magalhães de Sousa, Maria Eduarda Moreira Pascoal;\n",
    "* Documentação: Melissa Assis dos Santos, Nicolle Santa Rosa Coutinho, Yasmin Ferreira Possiano.\n",
    "* Apresentação: Ágatha Isabelli Barros da Silva, Héloise Souza Lemos, Lorena Silva Ferreira.\n"
   ]
  },
  {
   "cell_type": "markdown",
   "metadata": {
    "id": "bkrteg9sE8eO"
   },
   "source": [
    "## **Tabelas - Lorena**"
   ]
  },
  {
   "cell_type": "markdown",
   "metadata": {},
   "source": [
    "### **Descrição do código:**\n",
    "\n",
    "O código lê três arquivos CSV (`vendas.csv`, `produtos.csv`, `estoque.csv`) usando a biblioteca `pandas` e os armazena em variáveis (`vendas`, `produtos` e `estoque`). Em seguida, ele imprime o conteúdo de cada um desses arquivos no terminal ou console, separando as seções com títulos e linhas para uma visualização mais organizada. A função `pd.read_csv()` é usada para ler os arquivos CSV e transformá-los em DataFrames, que são tabelas estruturadas em formato que o `pandas` consegue manipular facilmente.\n",
    "\n",
    "Essencialmente, o código importa os dados de vendas, produtos e estoque e os exibe de forma ordenada.\n",
    "\n",
    "\n"
   ]
  },
  {
   "cell_type": "code",
   "execution_count": 1,
   "metadata": {
    "colab": {
     "base_uri": "https://localhost:8080/"
    },
    "executionInfo": {
     "elapsed": 822,
     "status": "ok",
     "timestamp": 1742852100968,
     "user": {
      "displayName": "Maria Clara Magalhães de Sousa",
      "userId": "15095260710523040692"
     },
     "user_tz": 180
    },
    "id": "ntw0UVYWE8eP",
    "outputId": "ae58526c-3729-439e-83a4-743df371fa48"
   },
   "outputs": [
    {
     "name": "stdout",
     "output_type": "stream",
     "text": [
      "---------------------------------VENDAS--------------------------------------\n",
      "    id_vendas  id_prod   nome_cliente  qtd_vendas\n",
      "0           1        1    Maria Clara           2\n",
      "1           2        2  Maria Eduarda           1\n",
      "2           3        3      Gabrielle           3\n",
      "3           4        4        Melissa           5\n",
      "4           5        5        Heloise           2\n",
      "5           6        6         Yasmin           3\n",
      "6           7        7         Lorena           1\n",
      "7           8        8         Ágatha           4\n",
      "8           9        9        Nicolle           1\n",
      "9          10       10    Maria Clara           2\n",
      "10         11       11  Maria Eduarda           1\n",
      "11         12       12      Gabrielle           3\n",
      "-----------------------------------------------------------------------------\n",
      "\n",
      "--------------------------------PRODUTOS-------------------------------------\n",
      "    id_prod                    nome_prod  categoria  preco_unitario  \\\n",
      "0         1            Sombras Compactas      olhos            30.0   \n",
      "1         2  Lentes de Contato Coloridas      olhos            45.0   \n",
      "2         3           Delineador Líquido      olhos            50.0   \n",
      "3         4          Batom Líquido Matte     lábios            35.0   \n",
      "4         5                 Gloss Labial     lábios            40.0   \n",
      "5         6     Lápis de Contorno Labial     lábios            20.0   \n",
      "6         7                 Base Líquida       pele            45.0   \n",
      "7         8          Corretivo em Bastão       pele            50.0   \n",
      "8         9                  Pó Compacto       pele            22.0   \n",
      "9        10         Fixador de Maquiagem  fixadores            40.0   \n",
      "10       11   Spray Fixador de Maquiagem  fixadores            20.0   \n",
      "11       12               Fixador em Gel  fixadores            55.0   \n",
      "\n",
      "   data_fabricacao  entrada_produtos  \n",
      "0       2025-03-01                50  \n",
      "1       2025-03-01                30  \n",
      "2       2025-03-01                40  \n",
      "3       2025-03-01                60  \n",
      "4       2025-03-01                35  \n",
      "5       2025-03-01                50  \n",
      "6       2025-03-01                70  \n",
      "7       2025-03-01                40  \n",
      "8       2025-03-01                60  \n",
      "9       2025-03-01                25  \n",
      "10      2025-03-01                50  \n",
      "11      2025-03-01                40  \n",
      "-----------------------------------------------------------------------------\n",
      "\n",
      "--------------------------------ESTOQUE--------------------------------------\n",
      "    id_estoque  id_prod  categoria\n",
      "0            1        1      olhos\n",
      "1            2        2      olhos\n",
      "2            3        3      olhos\n",
      "3            4        4     lábios\n",
      "4            5        5     lábios\n",
      "5            6        6     lábios\n",
      "6            7        7       pele\n",
      "7            8        8       pele\n",
      "8            9        9       pele\n",
      "9           10       10  fixadores\n",
      "10          11       11  fixadores\n",
      "11          12       12  fixadores\n",
      "-----------------------------------------------------------------------------\n",
      "\n"
     ]
    }
   ],
   "source": [
    "import pandas as pd\n",
    "\n",
    "vendas = pd.read_csv('vendas.csv')\n",
    "produtos = pd.read_csv('produtos.csv')\n",
    "estoque = pd.read_csv('estoque.csv')\n",
    "\n",
    "print('---------------------------------VENDAS--------------------------------------')\n",
    "print(vendas)\n",
    "print('-----------------------------------------------------------------------------')\n",
    "print('')\n",
    "\n",
    "print('--------------------------------PRODUTOS-------------------------------------')\n",
    "print(produtos)\n",
    "print('-----------------------------------------------------------------------------')\n",
    "print('')\n",
    "\n",
    "print('--------------------------------ESTOQUE--------------------------------------')\n",
    "print(estoque)\n",
    "print('-----------------------------------------------------------------------------')\n",
    "print('')"
   ]
  },
  {
   "cell_type": "markdown",
   "metadata": {
    "id": "bAOBQUKiE8eS"
   },
   "source": [
    "## **Filtros - Gabi**"
   ]
  },
  {
   "cell_type": "markdown",
   "metadata": {},
   "source": [
    "### **Descrição do código:**\n",
    "\n",
    "Após ler os código anteriormente *(vendas.csv, produtos.csv, estoque.csv)* usando a biblioteca pandas, e armazena os dados de cada arquivo em variáveis: vendas, produtos e estoque. O código abaixo imprime o conteúdo desses arquivos no console, separando cada seção com um título e uma linha de separação para facilitar a visualização.\n",
    "\n",
    "*Requisitos:*\n",
    "\n",
    "- Importar a biblioteca pandas.\n",
    "\n",
    "- Ler três arquivos CSV e os converter em DataFrames.\n",
    "\n",
    "- Imprimir o conteúdo dos DataFrames, com títulos e separações visuais.\n"
   ]
  },
  {
   "cell_type": "code",
   "execution_count": null,
   "metadata": {
    "colab": {
     "base_uri": "https://localhost:8080/",
     "height": 634
    },
    "executionInfo": {
     "elapsed": 138,
     "status": "error",
     "timestamp": 1742852107987,
     "user": {
      "displayName": "Maria Clara Magalhães de Sousa",
      "userId": "15095260710523040692"
     },
     "user_tz": 180
    },
    "id": "wfSbUyq_E8eS",
    "outputId": "cdc9795b-a94d-4f91-c463-8fcfe1c2b243"
   },
   "outputs": [],
   "source": [
    "import pandas as pd\n",
    "\n",
    "print(\"--------------------------Nomes em ordem alfabética-----------------------------------------\")\n",
    "if 'nome_cliente' in vendas.columns:\n",
    "    nome_ordenados = vendas.sort_values(by=\"nome_cliente\", ascending=True)\n",
    "    print(nome_ordenados)\n",
    "else:\n",
    "    print(\"Erro: A coluna 'nome_cliente' não existe em 'vendas'.\")\n",
    "print(\"\")\n",
    "\n",
    "print(\"--------------------------Preços em ordem crescente-----------------------------------------\")\n",
    "if 'preco_unitario' in produtos.columns:\n",
    "    preco_ordenados = produtos.sort_values(by=\"preco_unitario\", ascending=True)\n",
    "    print(preco_ordenados)\n",
    "else:\n",
    "    print(\"Erro: A coluna 'preco_unitario' não existe em 'vendas'.\")\n",
    "print(\"\")\n",
    "\n",
    "print(\"----------------------Quantidade de vendas em ordem crescente-------------------------------\")\n",
    "if 'qtd_vendas' in vendas.columns:\n",
    "    vendas_ordenadas = vendas.sort_values(by=\"qtd_vendas\", ascending=True)\n",
    "    print(vendas_ordenadas)\n",
    "else:\n",
    "    print(\"Erro: A coluna 'qtd_vendas' não existe em 'vendas'.\")\n",
    "print(\"\")\n",
    "\n",
    "print(\"--------------------------Produtos em ordem alfabética--------------------------------------\")\n",
    "if 'nome_prod' in produtos.columns:\n",
    "    produtos_ordem = produtos.sort_values(by=\"nome_prod\", ascending=True)\n",
    "    print(produtos_ordem)\n",
    "else:\n",
    "    print(\"Erro: A coluna 'nome_prod' não existe em 'produtos'.\")\n",
    "print(\"\")\n",
    "\n",
    "if 'preco_unitario' in produtos.columns and 'nome_prod' in produtos.columns:\n",
    "    filtro_precos = produtos[(produtos['preco_unitario'] > 39) & (produtos['nome_prod'].str.startswith('F'))]\n",
    "    print(\"---------------Preço > 39 e nomes de produtos iniciando com a letra F-----------------------\")\n",
    "    print(filtro_precos)\n",
    "else:\n",
    "    print(\"Erro: A coluna 'preco_unitario' ou 'nome_prod' não existe em 'produtos'.\")\n"
   ]
  },
  {
   "cell_type": "markdown",
   "metadata": {
    "id": "taVisQsNE8eU"
   },
   "source": [
    "## **Merge - Gabi e Maria Clara**"
   ]
  },
  {
   "cell_type": "markdown",
   "metadata": {
    "id": "v_FhjGYJE8eW"
   },
   "source": [
    "### **Gráficos - Maria Clara**"
   ]
  },
  {
   "cell_type": "markdown",
   "metadata": {
    "id": "fhU_NCnrE8eX"
   },
   "source": [
    "**1 - Quantidade do Estoque por Produto**"
   ]
  },
  {
   "cell_type": "markdown",
   "metadata": {},
   "source": [
    "**1. Estoque por Produto:** Este bloco calcula a quantidade de itens disponíveis no estoque para cada produto, subtraindo a quantidade de vendas da entrada de produtos. O resultado é agrupado por nome do produto e a quantidade total de itens disponíveis é somada. "
   ]
  },
  {
   "cell_type": "code",
   "execution_count": null,
   "metadata": {
    "colab": {
     "base_uri": "https://localhost:8080/",
     "height": 661
    },
    "executionInfo": {
     "elapsed": 514,
     "status": "ok",
     "timestamp": 1742852143929,
     "user": {
      "displayName": "Maria Clara Magalhães de Sousa",
      "userId": "15095260710523040692"
     },
     "user_tz": 180
    },
    "id": "Ge31lK_2E8eY",
    "outputId": "50d07087-b03d-4cd5-9a28-d54dca55ee15"
   },
   "outputs": [],
   "source": [
    "# QTD DO ESTOQUE POR PRODUTO - BARRA - AZUL\n",
    "print('--------------------------QTD DO ESTOQUE POR PRODUTO-------------------------')\n",
    "estoque_final = produtos.merge(vendas, on='id_prod')\n",
    "estoque_final['itens_disponiveis'] = estoque_final['entrada_produtos'] - estoque_final['qtd_vendas']\n",
    "total_disponivel_por_produto = estoque_final.groupby('nome_prod')['itens_disponiveis'].sum()\n",
    "print(total_disponivel_por_produto)\n",
    "print('-----------------------------------------------------------------------------')\n",
    "print('')\n",
    "\n",
    "import matplotlib.pyplot as plt\n",
    "\n",
    "total_disponivel_por_produto.plot(kind='bar', color='#9bb7d1')\n",
    "plt.title('Quantidade do Estoque por Produto', color='navy', fontweight='bold')\n",
    "plt.xlabel('Nome do Produto', color='navy', fontweight='bold')\n",
    "plt.ylabel('Quantidade do Estoque', color='navy', fontweight='bold')\n",
    "plt.show()"
   ]
  },
  {
   "cell_type": "markdown",
   "metadata": {
    "id": "VGHUTvyaE8eY"
   },
   "source": [
    "**2 - Quantidade do Estoque por Categoria**"
   ]
  },
  {
   "cell_type": "markdown",
   "metadata": {},
   "source": [
    "**2. Estoque por Categoria:** Aqui, o código calcula a quantidade disponível no estoque por categoria de produto. O procedimento é o mesmo que o anterior, mas agora agrupando os dados por categoria em vez de por produto."
   ]
  },
  {
   "cell_type": "code",
   "execution_count": null,
   "metadata": {
    "colab": {
     "base_uri": "https://localhost:8080/",
     "height": 472
    },
    "executionInfo": {
     "elapsed": 192,
     "status": "ok",
     "timestamp": 1742852150182,
     "user": {
      "displayName": "Maria Clara Magalhães de Sousa",
      "userId": "15095260710523040692"
     },
     "user_tz": 180
    },
    "id": "xxyDUGO3E8eZ",
    "outputId": "32cbeaaf-8d35-426b-af28-ef81cf220434"
   },
   "outputs": [],
   "source": [
    "# QTD DO ESTOQUE POR CATEGORIA - DISPERÇÃO - LARANJA\n",
    "print('-------------------------QTD DO ESTOQUE POR CATEGORIA------------------------')\n",
    "estoque_final_categoria = produtos.merge(vendas, on='id_prod')\n",
    "estoque_final_categoria['qtd_disponiveis_categoria'] = estoque_final_categoria['entrada_produtos'] - estoque_final_categoria['qtd_vendas']\n",
    "total_disponivel_por_categoria = estoque_final_categoria.groupby('categoria')['qtd_disponiveis_categoria'].sum()\n",
    "print(total_disponivel_por_categoria) #\n",
    "print('-----------------------------------------------------------------------------')\n",
    "print('')\n",
    "\n",
    "import matplotlib.pyplot as plt\n",
    "\n",
    "x = total_disponivel_por_categoria.index\n",
    "y = total_disponivel_por_categoria.values\n",
    "plt.scatter(x, y, color='#ffbd59', marker='o')\n",
    "plt.title('Quantidade do Estoque por Categoria', color='#ff914d', fontweight='bold')\n",
    "plt.xlabel('Categoria', color='#ff914d', fontweight='bold')\n",
    "plt.ylabel('Quantidade do Estoque', color='#ff914d', fontweight='bold')\n",
    "plt.show()"
   ]
  },
  {
   "cell_type": "markdown",
   "metadata": {},
   "source": [
    "**3- Porcentagem do Estoque da Categoria Pele**"
   ]
  },
  {
   "cell_type": "markdown",
   "metadata": {
    "id": "SwJTcNVtE8eZ"
   },
   "source": [
    "**3 - Estoque da Categoria Pele:** Aqui executamos o gráfico e não foi preciso usar o merge pois usamos informações de uma única tabela."
   ]
  },
  {
   "cell_type": "code",
   "execution_count": null,
   "metadata": {
    "colab": {
     "base_uri": "https://localhost:8080/",
     "height": 428
    },
    "executionInfo": {
     "elapsed": 151,
     "status": "ok",
     "timestamp": 1742852154308,
     "user": {
      "displayName": "Maria Clara Magalhães de Sousa",
      "userId": "15095260710523040692"
     },
     "user_tz": 180
    },
    "id": "P9iyZ13EE8ea",
    "outputId": "5f40ddf7-33c7-4f81-8775-817d018528e1"
   },
   "outputs": [],
   "source": [
    "# QTD DO ESTOQUE DOS PRODUTOS CATEGORIA PELE - PIZZA - ROSA\n",
    "import matplotlib.pyplot as plt\n",
    "\n",
    "categorias = ['Base Líquida', 'Corretivo em Bastão', 'Pó Compacto']\n",
    "vendas = [69, 36, 59]\n",
    "cores = ['#f79489', '#fadcd9', '#f8afa6']\n",
    "\n",
    "plt.pie(vendas, labels=categorias, autopct='%1.2f%%', colors=cores)\n",
    "plt.title('Porcentagem do Estoque da Categoria Pele', color='#f66f61', fontweight='bold')\n",
    "plt.show()"
   ]
  },
  {
   "cell_type": "markdown",
   "metadata": {
    "id": "vgfV-g-5E8ea"
   },
   "source": [
    "**4 - Valor de Vendas Por Cliente**"
   ]
  },
  {
   "cell_type": "markdown",
   "metadata": {},
   "source": [
    "**4 - Valor de Vendas por Cliente:** Este trecho calcula o valor total de vendas por cliente. O valor total é calculado multiplicando o preço unitário pelo quantidade de vendas. Em seguida, os valores são somados por cliente. ajuda a entender o comportamento de compra de cada cliente, possibilitando identificar quais clientes geraram mais receita para a empresa."
   ]
  },
  {
   "cell_type": "code",
   "execution_count": 2,
   "metadata": {
    "colab": {
     "base_uri": "https://localhost:8080/",
     "height": 539
    },
    "executionInfo": {
     "elapsed": 313,
     "status": "ok",
     "timestamp": 1742852158278,
     "user": {
      "displayName": "Maria Clara Magalhães de Sousa",
      "userId": "15095260710523040692"
     },
     "user_tz": 180
    },
    "id": "Pp0BRAMHE8ea",
    "outputId": "4eb71e09-fcd9-4ec3-a3b1-01220a74f3c0"
   },
   "outputs": [
    {
     "name": "stdout",
     "output_type": "stream",
     "text": [
      "-------------------------VALOR DE VENDAS POR CLIENTE-------------------------\n",
      "nome_cliente\n",
      "Gabrielle        315.0\n",
      "Heloise           80.0\n",
      "Lorena            45.0\n",
      "Maria Clara      140.0\n",
      "Maria Eduarda     65.0\n",
      "Melissa          175.0\n",
      "Nicolle           22.0\n",
      "Yasmin            60.0\n",
      "Ágatha           200.0\n",
      "Name: valor_vendas_final, dtype: float64\n",
      "-----------------------------------------------------------------------------\n",
      "\n"
     ]
    },
    {
     "data": {
      "image/png": "[encoded data removed]",
      "text/plain": [
       "<Figure size 640x480 with 1 Axes>"
      ]
     },
     "metadata": {},
     "output_type": "display_data"
    }
   ],
   "source": [
    "import pandas as pd\n",
    "import matplotlib.pyplot as plt\n",
    "\n",
    "# Carregar os dados\n",
    "vendas = pd.read_csv('vendas.csv')\n",
    "produtos = pd.read_csv('produtos.csv')\n",
    "estoque = pd.read_csv('estoque.csv')\n",
    "\n",
    "# Calcular o valor de vendas por cliente\n",
    "print('-------------------------VALOR DE VENDAS POR CLIENTE-------------------------')\n",
    "valor_vendas = vendas.merge(produtos, on='id_prod')\n",
    "valor_vendas['valor_vendas_final'] = valor_vendas['preco_unitario'] * valor_vendas['qtd_vendas']\n",
    "valor_vendas_por_produto = valor_vendas.groupby('nome_cliente')['valor_vendas_final'].sum()\n",
    "print(valor_vendas_por_produto)\n",
    "print('-----------------------------------------------------------------------------')\n",
    "print('')\n",
    "\n",
    "# Visualizar os dados\n",
    "valor_vendas_por_produto.plot(kind='line', marker='o', color='#975ab6')\n",
    "plt.title('Valor de Vendas Por Cliente', color='#9953ac', fontweight='bold')\n",
    "plt.xlabel('Nome do Cliente', color='#9953ac', fontweight='bold')\n",
    "plt.ylabel('Valor (R$)', color='#9953ac', fontweight='bold')\n",
    "plt.xticks(rotation=45)\n",
    "plt.tight_layout()  # Ajusta o layout para evitar sobreposição\n",
    "plt.show()"
   ]
  },
  {
   "cell_type": "markdown",
   "metadata": {
    "id": "CTX280QAE8eb"
   },
   "source": [
    "**5 - Entrada Inicial por Produto**"
   ]
  },
  {
   "cell_type": "markdown",
   "metadata": {},
   "source": [
    "**5 - Entrada Inicial por Produto:** Este bloco calcula a entrada total de produtos por produto, agrupando os dados por nome do produto e somando as entradas. Esse cálculo ajuda a entender o comportamento de compra de cada cliente, possibilitando identificar quais clientes geraram mais receita para a empresa."
   ]
  },
  {
   "cell_type": "code",
   "execution_count": null,
   "metadata": {
    "colab": {
     "base_uri": "https://localhost:8080/",
     "height": 472
    },
    "executionInfo": {
     "elapsed": 248,
     "status": "ok",
     "timestamp": 1742852164934,
     "user": {
      "displayName": "Maria Clara Magalhães de Sousa",
      "userId": "15095260710523040692"
     },
     "user_tz": 180
    },
    "id": "oQ64F1IhE8eb",
    "outputId": "f37010fc-8d5f-4d1e-f654-d17c005fadc8"
   },
   "outputs": [],
   "source": [
    "# ENTRADA INICIAL POR PRODUTO - BARRA LATERAL - VERDE\n",
    "print('-------------------------ENTRADA INICIAL POR PRODUTO-------------------------')\n",
    "total_entrada = produtos.groupby('nome_prod')['entrada_produtos'].sum()\n",
    "print(total_entrada)\n",
    "print('-----------------------------------------------------------------------------')\n",
    "print('')\n",
    "\n",
    "import matplotlib.pyplot as plt\n",
    "\n",
    "total_entrada.plot(kind='barh', color='#81b673', width=0.8)\n",
    "plt.title('Entrada Inicial por Produto', color='#2c4f40', fontweight='bold')\n",
    "plt.xlabel('Entrada Inicial', color='#2c4f40', fontweight='bold')\n",
    "plt.ylabel('Nome do Produto', color='#2c4f40', fontweight='bold')\n",
    "plt.show()"
   ]
  },
  {
   "cell_type": "markdown",
   "metadata": {
    "id": "hP1rk9bUE8eb"
   },
   "source": [
    "**6 - Quantidade de Vendas por Produto**"
   ]
  },
  {
   "cell_type": "markdown",
   "metadata": {},
   "source": [
    "**6 - Quantidade de Vendas por Produto:** Este trecho calcula a quantidade de vendas por produto, ele agrupa as vendas pelo nome do produto de cada produto e soma a quantidade de itens vendidos. Esse cálculo mostra o desempenho de vendas de cada produto, permitindo identificar quais produtos estão vendendo mais ou menos."
   ]
  },
  {
   "cell_type": "code",
   "execution_count": null,
   "metadata": {
    "colab": {
     "base_uri": "https://localhost:8080/",
     "height": 472
    },
    "executionInfo": {
     "elapsed": 267,
     "status": "ok",
     "timestamp": 1742852169695,
     "user": {
      "displayName": "Maria Clara Magalhães de Sousa",
      "userId": "15095260710523040692"
     },
     "user_tz": 180
    },
    "id": "PNixPqs9E8eb",
    "outputId": "3cc059cd-1c99-4278-d9aa-458d5e325e15"
   },
   "outputs": [],
   "source": [
    "# QTD DE VENDAS POR PRODUTO - BARRA LATERAL - CINZA\n",
    "print('--------------------------QTD DE VENDAS POR PRODUTO--------------------------')\n",
    "qtd_vendas_produtos = vendas.merge(produtos, on='id_prod')\n",
    "qtd_vendas_produtos['valor_vendas'] = qtd_vendas_produtos['qtd_vendas']\n",
    "total_vendas = qtd_vendas_produtos.groupby('nome_prod')['valor_vendas'].sum()\n",
    "print(total_vendas)\n",
    "print('-----------------------------------------------------------------------------')\n",
    "print('')\n",
    "\n",
    "import matplotlib.pyplot as plt\n",
    "\n",
    "vendas = pd.read_csv('vendas.csv')\n",
    "produtos = pd.read_csv('produtos.csv')\n",
    "estoque = pd.read_csv('estoque.csv')\n",
    "\n",
    "total_vendas.plot(kind='barh', color='#a6a6a6', width=0.8)\n",
    "plt.title('Quantidade de Vendas por Produto', color='#545454', fontweight='bold')\n",
    "plt.xlabel('Quantidade de Vendas', color='#545454', fontweight='bold')\n",
    "plt.ylabel('Nome do Produto', color='#545454', fontweight='bold')\n",
    "plt.show()"
   ]
  },
  {
   "cell_type": "markdown",
   "metadata": {
    "id": "il_QkdS5E8eb"
   },
   "source": [
    "**7 - Entrada Inicial - vs - Vendas por Produto**"
   ]
  },
  {
   "cell_type": "markdown",
   "metadata": {},
   "source": [
    "**7 - Entrada Inicial vs Vendas Por Produto:** Aqui executamos o gráfico e não foi preciso usar o merge pois usamos informações de uma única tabela."
   ]
  },
  {
   "cell_type": "code",
   "execution_count": null,
   "metadata": {
    "colab": {
     "base_uri": "https://localhost:8080/",
     "height": 641
    },
    "executionInfo": {
     "elapsed": 320,
     "status": "ok",
     "timestamp": 1742852175116,
     "user": {
      "displayName": "Maria Clara Magalhães de Sousa",
      "userId": "15095260710523040692"
     },
     "user_tz": 180
    },
    "id": "wD_OHdIcE8ec",
    "outputId": "ff0d4c5a-4cde-42fb-b896-6cf9bda7fa17"
   },
   "outputs": [],
   "source": [
    "import matplotlib.pyplot as plt\n",
    "\n",
    "vendas = pd.read_csv('vendas.csv')\n",
    "produtos = pd.read_csv('produtos.csv')\n",
    "estoque = pd.read_csv('estoque.csv')\n",
    "\n",
    "plt.bar(total_entrada.index, total_entrada.values, color='#d1b59b', width = 0.7, label='Entrada Inicial')\n",
    "plt.bar(total_vendas.index, total_vendas.values, color='#9d6e42', width = 0.5, label='Vendas')\n",
    "\n",
    "plt.title('Entrada Inicial - vs - Vendas por Produto', color='#593a1e', fontweight='bold')\n",
    "plt.xticks(rotation=90)\n",
    "plt.legend()\n",
    "plt.show()"
   ]
  },
  {
   "cell_type": "markdown",
   "metadata": {},
   "source": [
    "## **Integrando MatPlotLib com Tkinter (Maria Eduarda)**"
   ]
  },
  {
   "cell_type": "markdown",
   "metadata": {},
   "source": [
    "### **Descrição do código:**\n",
    "\n",
    "Esse código cria uma interface gráfica usando o Tkinter para carregar arquivos CSV, realizar análises de dados e gerar gráficos interativos com matplotlib, de maneira visual. O objetivo é analisar e visualizar informações relacionadas a estoque, produtos e vendas.\n",
    "\n",
    "- A partir desses dados, é gerado gráficos de diferentes tipos (barras, dispersão, pizza e linha) para análise de estoque e vendas, com visualização imediata em novas janelas. A interface é interativa e permite que o usuário selecione os dados e veja os gráficos de forma prática.\n"
   ]
  },
  {
   "cell_type": "code",
   "execution_count": null,
   "metadata": {},
   "outputs": [],
   "source": [
    "import tkinter as tk \n",
    "from tkinter import filedialog, messagebox\n",
    "import pandas as pd\n",
    "import matplotlib.pyplot as plt\n",
    "from matplotlib.backends.backend_tkagg import FigureCanvasTkAgg\n",
    "\n",
    "# Função para carregar arquivos CSV\n",
    "def carregar_arquivos():\n",
    "    try:\n",
    "        # Usando o filedialog para permitir ao usuário selecionar os arquivos\n",
    "        estoque_path = filedialog.askopenfilename(title=\"Selecione o arquivo de estoque\", filetypes=[(\"CSV Files\", \"*.csv\")])\n",
    "        produtos_path = filedialog.askopenfilename(title=\"Selecione o arquivo de produtos\", filetypes=[(\"CSV Files\", \"*.csv\")])\n",
    "        vendas_path = filedialog.askopenfilename(title=\"Selecione o arquivo de vendas\", filetypes=[(\"CSV Files\", \"*.csv\")])\n",
    "\n",
    "        # Carregar os arquivos CSV\n",
    "        global vendas, produtos, estoque\n",
    "        estoque = pd.read_csv(estoque_path)\n",
    "        produtos = pd.read_csv(produtos_path)\n",
    "        vendas = pd.read_csv(vendas_path)\n",
    "\n",
    "        # Exibir as primeiras linhas dos arquivos para verificação\n",
    "        messagebox.showinfo(\"Arquivos Carregados\", f\"Arquivos carregados com sucesso!\\nPrimeiras linhas de Vendas:\\n{vendas.head()}\\n\\nPrimeiras linhas de Produtos:\\n{produtos.head()}\\n\\nPrimeiras Linhas Estoque:\\n{estoque.head()}\")\n",
    "    except Exception as e:\n",
    "        messagebox.showerror(\"Erro\", f\"Erro ao carregar os arquivos: {e}\")\n",
    "\n",
    "\n",
    "# Função para gerar o gráfico de Quantidade de Estoque por Produto\n",
    "def grafico_estoque_por_produto():\n",
    "    try:\n",
    "        # Merge entre vendas e produtos\n",
    "        estoque_final = produtos.merge(vendas, on='id_prod')\n",
    "        # Calcular o Estoque Final\n",
    "        estoque_final['itens_disponiveis'] = estoque_final['entrada_produtos'] - estoque_final['qtd_vendas']\n",
    "        total_disponivel_por_produto = estoque_final.groupby('nome_prod')['itens_disponiveis'].sum()\n",
    "\n",
    "        # Gerar o gráfico de barras de total disponível por produto\n",
    "        fig, ax = plt.subplots()\n",
    "        total_disponivel_por_produto.plot(kind='bar', color='#9bb7d1')\n",
    "        plt.title('Quantidade do Estoque por Produto', color='navy', fontweight='bold')\n",
    "        plt.xlabel('Nome do Produto', color='navy', fontweight='bold')\n",
    "        plt.ylabel('Quantidade do Estoque', color='navy', fontweight='bold')\n",
    "\n",
    "        # Exibir o gráfico em uma nova janela\n",
    "        nova_janela = tk.Toplevel()\n",
    "        nova_janela.title(\"Quantidade do Estoque por Produto\")\n",
    "        canvas = FigureCanvasTkAgg(fig, master=nova_janela)\n",
    "        canvas.draw()\n",
    "        canvas.get_tk_widget().pack(side=tk.TOP, fill=tk.BOTH, expand=1)\n",
    "\n",
    "    except Exception as e:\n",
    "        messagebox.showerror(\"Erro\", f\"Erro ao gerar o gráfico de Total Diponível por Produto: {e}\")\n",
    "\n",
    "\n",
    "# Função para gerar o gráfico de quantidade de estoque por categoria\n",
    "def qtd_estoque_por_categoria():\n",
    "    try:\n",
    "        # Merge entre produtos e vendas\n",
    "        estoque_final_categoria = produtos.merge(vendas, on='id_prod')\n",
    "\n",
    "        # Estoque final por categoria\n",
    "        estoque_final_categoria['qtd_disponiveis_categoria'] = estoque_final_categoria['entrada_produtos'] - estoque_final_categoria['qtd_vendas']\n",
    "        total_disponivel_por_categoria = estoque_final_categoria.groupby('categoria')['qtd_disponiveis_categoria'].sum()\n",
    "\n",
    "        # Gerar o gráfico de quantidade de estoque por categoria\n",
    "        fig, ax = plt.subplots()\n",
    "        x = total_disponivel_por_categoria.index\n",
    "        y = total_disponivel_por_categoria.values\n",
    "        plt.scatter(x, y, color='#ffbd59', marker='o')\n",
    "        plt.title('Quantidade do Estoque por Categoria', color='#ff914d', fontweight='bold')\n",
    "        plt.xlabel('Categoria', color='#ff914d', fontweight='bold')\n",
    "        plt.ylabel('Quantidade do Estoque', color='#ff914d', fontweight='bold')\n",
    "\n",
    "        # Exibir o gráfico em nova janela\n",
    "        nova_janela = tk.Toplevel()\n",
    "        nova_janela.title(\"Gráfico Quantidade do Estoque por Categoria\")\n",
    "        canvas = FigureCanvasTkAgg(fig, master=nova_janela)\n",
    "        canvas.draw()\n",
    "        canvas.get_tk_widget().pack(side=tk.TOP, fill=tk.BOTH, expand=1)\n",
    "\n",
    "    except Exception as e:\n",
    "        messagebox.showerror(\"Erro\", f\"Erro ao gerar o gráfico de quantidade do estoque por categoria: {e}\")\n",
    "\n",
    "\n",
    "# Função para gerar o gráfico de vendas por categoria\n",
    "def grafico_vendas_por_categoria():\n",
    "    try:\n",
    "        # Gerar o gráfico de pizza para vendas por categoria\n",
    "        categorias = ['Base Líquida', 'Corretivo em Bastão', 'Pó Compacto']\n",
    "        vendas = [69, 36, 59]\n",
    "        cores = ['#f79489', '#fadcd9', '#f8afa6']\n",
    "\n",
    "        fig, ax = plt.subplots()\n",
    "        plt.pie(vendas, labels=categorias, autopct='%1.2f%%', colors=cores)\n",
    "        plt.title('Porcentagem do Estoque da Categoria Pele', color='#f66f61', fontweight='bold')\n",
    "\n",
    "        # Exibir o gráfico em uma nova janela\n",
    "        nova_janela = tk.Toplevel()\n",
    "        nova_janela.title(\"Gráfico Quantidade do Estoque por Categoria\")\n",
    "        canvas = FigureCanvasTkAgg(fig, master=nova_janela)\n",
    "        canvas.draw()\n",
    "        canvas.get_tk_widget().pack(side=tk.TOP, fill=tk.BOTH, expand=1)\n",
    "\n",
    "    except Exception as e:\n",
    "        messagebox.showerror(\"Erro\", f\"Erro ao gerar o gráfico de vendas por categoria: {e}\")\n",
    "\n",
    "\n",
    "# Função para gerar valor de vendas por cliente \n",
    "def grafico_vendas_por_cliente():\n",
    "    try:\n",
    "        # Merge entre vendas e produtos\n",
    "        valor_vendas = vendas.merge(produtos, on='id_prod')\n",
    "        \n",
    "        # Calcular o valor de vendas\n",
    "        valor_vendas['valor_vendas_final'] = valor_vendas['preco_unitario'] * valor_vendas['qtd_vendas']\n",
    "        valor_vendas_por_produto = valor_vendas.groupby('nome_cliente')['valor_vendas_final'].sum()\n",
    "\n",
    "        # Gerar o gráfico de valor de vendas por cliente\n",
    "        fig, ax = plt.subplots()\n",
    "        valor_vendas_por_produto.plot(kind='line', marker='o', color='#975ab6')\n",
    "        plt.title('Valor de Vendas Por Cliente', color='#9953ac', fontweight='bold')\n",
    "        plt.xlabel('Nome do Cliente', color='#9953ac', fontweight='bold')\n",
    "        plt.ylabel('Valor (R$)', color='#9953ac', fontweight='bold')\n",
    "        plt.xticks(rotation=45)\n",
    "\n",
    "        # Exibir o gráfico em uma nova janela\n",
    "        nova_janela = tk.Toplevel()\n",
    "        nova_janela.title(\"Gráfico Valor Vendas por Cliente\")\n",
    "        canvas = FigureCanvasTkAgg(fig, master=nova_janela)\n",
    "        canvas.draw()\n",
    "        canvas.get_tk_widget().pack(side=tk.TOP, fill=tk.BOTH, expand=1)\n",
    "\n",
    "    except Exception as e:\n",
    "        messagebox.showerror(\"Erro\", f\"Erro ao gerar o gráfico de Valor de Vendas por Cliente: {e}\")\n",
    "\n",
    "\n",
    "# Função para gerar o gráfico de Entrada Inicial por Produto\n",
    "def grafico_entrada_inicial_por_produto():\n",
    "    try:\n",
    "        # Gráfico de entrada inicial\n",
    "        total_entrada = produtos.groupby('nome_prod')['entrada_produtos'].sum()\n",
    "\n",
    "        # Gerar o gráfico de entrada inicial por produto\n",
    "        fig, ax = plt.subplots()\n",
    "        total_entrada.plot(kind='barh', color='#81b673', width=0.8)\n",
    "        plt.title('Entrada Inicial por Produto', color='#2c4f40', fontweight='bold')\n",
    "        plt.xlabel('Entrada Inicial', color='#2c4f40', fontweight='bold')\n",
    "        plt.ylabel('Nome do Produto', color='#2c4f40', fontweight='bold')\n",
    "        plt.show()\n",
    "\n",
    "        # Exibir o gráfico em uma nova janela\n",
    "        nova_janela = tk.Toplevel()\n",
    "        nova_janela.title(\"Entrada Inicial por Produto\")\n",
    "        canvas = FigureCanvasTkAgg(fig, master=nova_janela)\n",
    "        canvas.draw()\n",
    "        canvas.get_tk_widget().pack(side=tk.TOP, fill=tk.BOTH, expand=1)\n",
    "\n",
    "    except Exception as e:\n",
    "        messagebox.showerror(\"Erro\", f\"Erro ao gerar o gráfico de Entrada Inicial por Produto: {e}\")\n",
    "\n",
    "\n",
    "# Função para gerar o gráfico de Quantidade de Vendas por Produto\n",
    "def grafico_vendas_por_produto():\n",
    "    try:\n",
    "        # Merge entre vendas e produtos\n",
    "        qtd_vendas_produtos = vendas.merge(produtos, on='id_prod')\n",
    "        # Calcular o Estoque Final\n",
    "        qtd_vendas_produtos['valor_vendas'] = qtd_vendas_produtos['qtd_vendas']\n",
    "        total_vendas = qtd_vendas_produtos.groupby('nome_prod')['valor_vendas'].sum()\n",
    "\n",
    "        # Gerar o gráfico de quantidade de vendas por produto\n",
    "        fig, ax = plt.subplots()\n",
    "        total_vendas.plot(kind='barh', color='#a6a6a6', width=0.8)\n",
    "        plt.title('Quantidade de Vendas por Produto', color='#545454', fontweight='bold')\n",
    "        plt.xlabel('Quantidade de Vendas', color='#545454', fontweight='bold')\n",
    "        plt.ylabel('Nome do Produto', color='#545454', fontweight='bold')\n",
    "\n",
    "        # Exibir o gráfico em uma nova janela\n",
    "        nova_janela = tk.Toplevel()\n",
    "        nova_janela.title(\"Quantidade de Vendas por Produto\")\n",
    "        canvas = FigureCanvasTkAgg(fig, master=nova_janela)\n",
    "        canvas.draw()\n",
    "        canvas.get_tk_widget().pack(side=tk.TOP, fill=tk.BOTH, expand=1)\n",
    "\n",
    "    except Exception as e:\n",
    "        messagebox.showerror(\"Erro\", f\"Erro ao gerar o gráfico de Quantidade de Vendas por Produto: {e}\")\n",
    "\n",
    "\n",
    "# Configuração da Janela Principal\n",
    "root = tk.Tk()\n",
    "root.title(\"Análise de Estoque\")\n",
    "root.geometry(\"800x600\")\n",
    "\n",
    "# Label para o título\n",
    "titulo = tk.Label(root, text=\"Análise de Estoque\", font=(\"Georgia\", 24, \"bold\"), fg=\"#7B1D26\")\n",
    "titulo.pack(pady=80, padx=20, side=\"top\", anchor=\"n\") # Adiciona o título no topo e com algum espaço\n",
    "\n",
    "\n",
    "# Frame para centralizar os botões\n",
    "frame = tk.Frame(root)\n",
    "frame.place(relx=0.5, rely=0.5, anchor=\"center\")  # Centraliza o Frame na janela\n",
    "\n",
    "# Botão para carregar os arquivos CSV\n",
    "bnt_carregar = tk.Button(frame, text=\"Carregar Arquivos\", command=carregar_arquivos, bg=\"#D38C9D\", fg=\"black\", font=(\"cambria\", 10))\n",
    "bnt_carregar.pack(pady=10)\n",
    "\n",
    "# Botões para gerar os gráficos\n",
    "bnt_total_disponivel_por_produtos = tk.Button(frame, text=\"Gráfico de Estoque por Produto\", command=grafico_estoque_por_produto, bg=\"#D38C9D\", fg=\"black\", font=(\"cambria\", 10))\n",
    "bnt_total_disponivel_por_produtos.pack(pady=10)\n",
    "\n",
    "bnt_qtd_estoque_por_categoria = tk.Button(frame, text=\"Gráfico de Quantidade de Estoque por Categoria\", command=qtd_estoque_por_categoria, bg=\"#D38C9D\", fg=\"black\", font=(\"cambria\", 10))\n",
    "bnt_qtd_estoque_por_categoria.pack(pady=10)\n",
    "\n",
    "bnt_vendas_categoria = tk.Button(frame, text=\"Gráfico de Vendas por Categoria\", command=grafico_vendas_por_categoria, bg=\"#D38C9D\", fg=\"black\", font=(\"cambria\", 10))\n",
    "bnt_vendas_categoria.pack(pady=10)\n",
    "\n",
    "bnt_vendas_por_cliente = tk.Button(frame, text=\"Gráfico de Vendas por Cliente\", command=grafico_vendas_por_cliente, bg=\"#D38C9D\", fg=\"black\", font=(\"cambria\", 10))\n",
    "bnt_vendas_por_cliente.pack(pady=10)\n",
    "\n",
    "bnt_entrada_inicial_por_produto = tk.Button(frame, text=\"Gráfico de Entrada Inicial por Produto\", command=grafico_entrada_inicial_por_produto, bg=\"#D38C9D\", fg=\"black\", font=(\"cambria\", 10))\n",
    "bnt_entrada_inicial_por_produto.pack(pady=10)\n",
    "\n",
    "bnt_total_disponivel_por_produto = tk.Button(frame, text=\"Gráfico de Vendas por Produto\", command=grafico_vendas_por_produto, bg=\"#D38C9D\", fg=\"black\", font=(\"cambria\", 10))\n",
    "bnt_total_disponivel_por_produto.pack(pady=10)\n",
    "\n",
    "# Iniciar a interface\n",
    "root.mainloop()\n"
   ]
  }
 ],
 "metadata": {
  "colab": {
   "provenance": []
  },
  "kernelspec": {
   "display_name": "Python 3",
   "language": "python",
   "name": "python3"
  },
  "language_info": {
   "codemirror_mode": {
    "name": "ipython",
    "version": 3
   },
   "file_extension": ".py",
   "mimetype": "text/x-python",
   "name": "python",
   "nbconvert_exporter": "python",
   "pygments_lexer": "ipython3",
   "version": "3.13.2"
  }
 },
 "nbformat": 4,
 "nbformat_minor": 0
}
